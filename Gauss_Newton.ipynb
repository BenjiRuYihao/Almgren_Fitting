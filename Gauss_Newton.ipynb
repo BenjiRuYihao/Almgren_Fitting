{
 "cells": [
  {
   "cell_type": "markdown",
   "metadata": {},
   "source": [
    "https://en.wikipedia.org/wiki/Gauss%E2%80%93Newton_algorithm"
   ]
  },
  {
   "cell_type": "markdown",
   "metadata": {},
   "source": [
    "## toy problem, code up the algo myself"
   ]
  },
  {
   "cell_type": "code",
   "execution_count": 61,
   "metadata": {},
   "outputs": [],
   "source": [
    "import numpy as np\n",
    "import scipy as sp\n",
    "import matplotlib.pyplot as pt\n",
    "import scipy.linalg as la\n",
    "from scipy.optimize import least_squares\n",
    "%matplotlib inline"
   ]
  },
  {
   "cell_type": "code",
   "execution_count": 29,
   "metadata": {},
   "outputs": [],
   "source": [
    "a = 2\n",
    "b = 0.5"
   ]
  },
  {
   "cell_type": "code",
   "execution_count": 30,
   "metadata": {},
   "outputs": [],
   "source": [
    "underlying_function = lambda x: a*x**b"
   ]
  },
  {
   "cell_type": "code",
   "execution_count": 31,
   "metadata": {},
   "outputs": [],
   "source": [
    "x = np.array([1,2,3,4])\n",
    "y = [underlying_function(x_i) for x_i in x]"
   ]
  },
  {
   "cell_type": "code",
   "execution_count": 32,
   "metadata": {},
   "outputs": [],
   "source": [
    "def residual(parameter):\n",
    "    a, b = parameter\n",
    "    return y - a * x**b"
   ]
  },
  {
   "cell_type": "code",
   "execution_count": 41,
   "metadata": {},
   "outputs": [],
   "source": [
    "def jacobian(parameter):\n",
    "    a, b = parameter\n",
    "    return np.array([\n",
    "        -x**b,\n",
    "        -a*np.log(x)*x**b\n",
    "        ]).T"
   ]
  },
  {
   "cell_type": "code",
   "execution_count": 53,
   "metadata": {},
   "outputs": [],
   "source": [
    "p = np.array([5.0,1.0])\n",
    "    "
   ]
  },
  {
   "cell_type": "code",
   "execution_count": 54,
   "metadata": {},
   "outputs": [],
   "source": [
    "while True:\n",
    "    J = jacobian(p)\n",
    "    r = residual(p)\n",
    "    step = la.inv(J.T@J)@J.T@r\n",
    "    p -= step\n",
    "    \n",
    "    if np.abs(step).max() < 0.0001:\n",
    "        break"
   ]
  },
  {
   "cell_type": "markdown",
   "metadata": {},
   "source": [
    "# toy problem, using scipy.optimize.least_squares"
   ]
  },
  {
   "cell_type": "code",
   "execution_count": 67,
   "metadata": {},
   "outputs": [
    {
     "data": {
      "text/plain": [
       "array([2. , 0.5])"
      ]
     },
     "execution_count": 67,
     "metadata": {},
     "output_type": "execute_result"
    }
   ],
   "source": [
    "x0 = np.array([2, 2])\n",
    "res_1 = least_squares(residual, x0)\n",
    "res_1.x\n",
    "\n",
    "\n"
   ]
  },
  {
   "cell_type": "code",
   "execution_count": 68,
   "metadata": {},
   "outputs": [
    {
     "data": {
      "text/plain": [
       "7.784092131320288e-25"
      ]
     },
     "execution_count": 68,
     "metadata": {},
     "output_type": "execute_result"
    }
   ],
   "source": [
    "res_1.cost\n"
   ]
  },
  {
   "cell_type": "code",
   "execution_count": 69,
   "metadata": {},
   "outputs": [
    {
     "data": {
      "text/plain": [
       "array([[-1.        ,  0.        ],\n",
       "       [-1.41421356, -1.96051627],\n",
       "       [-1.7320508 , -3.80570465],\n",
       "       [-2.00000001, -5.54517752]])"
      ]
     },
     "execution_count": 69,
     "metadata": {},
     "output_type": "execute_result"
    }
   ],
   "source": [
    "res_1.jac\n"
   ]
  },
  {
   "cell_type": "code",
   "execution_count": 70,
   "metadata": {},
   "outputs": [
    {
     "data": {
      "text/plain": [
       "array([[-1.        , -0.        ],\n",
       "       [-1.41421356, -1.96051629],\n",
       "       [-1.73205081, -3.8057046 ],\n",
       "       [-2.        , -5.54517744]])"
      ]
     },
     "execution_count": 70,
     "metadata": {},
     "output_type": "execute_result"
    }
   ],
   "source": [
    "jacobian([2. , 0.5])"
   ]
  },
  {
   "cell_type": "markdown",
   "metadata": {},
   "source": [
    "# Real Problem, simulated, my code"
   ]
  },
  {
   "cell_type": "code",
   "execution_count": 115,
   "metadata": {},
   "outputs": [],
   "source": [
    "X = np.arange(10**5,10**6,10**5)\n",
    "V = np.random.uniform(10**8,5*10**8,9)\n",
    "T = np.random.uniform(0.03,0.5,9)\n",
    "sos = np.random.uniform(10**10,5*10**10,9)\n",
    "noise = np.random.uniform(-0.0001,0.0001,9)"
   ]
  },
  {
   "cell_type": "code",
   "execution_count": 110,
   "metadata": {},
   "outputs": [],
   "source": [
    "gamma = 0.314\n",
    "alpha = 1\n",
    "delta = 0.267"
   ]
  },
  {
   "cell_type": "code",
   "execution_count": 130,
   "metadata": {},
   "outputs": [],
   "source": [
    "permanent_impact = gamma * T * np.sign(X) * (X/(V*T))**alpha *(sos/V)**delta \n",
    "# permanent_impact = gamma * T * np.sign(X) * (X/(V*T))**alpha *(sos/V)**delta + noise"
   ]
  },
  {
   "cell_type": "code",
   "execution_count": 117,
   "metadata": {},
   "outputs": [
    {
     "data": {
      "text/plain": [
       "array([0.000104  , 0.00070691, 0.00132496, 0.00074938, 0.00439501,\n",
       "       0.00133901, 0.00201812, 0.0016612 , 0.0036353 ])"
      ]
     },
     "execution_count": 117,
     "metadata": {},
     "output_type": "execute_result"
    }
   ],
   "source": [
    "permanent_impact"
   ]
  },
  {
   "cell_type": "code",
   "execution_count": 121,
   "metadata": {},
   "outputs": [],
   "source": [
    "def residual(parameter):\n",
    "    gamma, alpha, delta = parameter\n",
    "    prediction = gamma * T * np.sign(X) * (X/(V*T))**alpha *(sos/V)**delta\n",
    "    residual = permanent_impact - prediction\n",
    "    return residual"
   ]
  },
  {
   "cell_type": "code",
   "execution_count": 122,
   "metadata": {},
   "outputs": [],
   "source": [
    "def jacobian(parameter):\n",
    "    gamma, alpha, delta = parameter\n",
    "    return np.array([\n",
    "        -T * np.sign(X) * (X/(V*T))**alpha *(sos/V)**delta,\n",
    "        -gamma * T * np.sign(X) * (X/(V*T))**alpha *(sos/V)**delta * np.log(X/(V*T)),\n",
    "        -gamma * T * np.sign(X) * (X/(V*T))**alpha *(sos/V)**delta * np.log(sos/V)\n",
    "        ]).T"
   ]
  },
  {
   "cell_type": "code",
   "execution_count": 131,
   "metadata": {},
   "outputs": [],
   "source": [
    "p = [0.5, 0.9, 0.3]"
   ]
  },
  {
   "cell_type": "code",
   "execution_count": 132,
   "metadata": {},
   "outputs": [],
   "source": [
    "while True:\n",
    "    J = jacobian(p)\n",
    "    r = residual(p)\n",
    "    step = la.inv(J.T@J)@J.T@r\n",
    "    p -= step\n",
    "    \n",
    "    if np.abs(step).max() < 0.00001:\n",
    "        break"
   ]
  },
  {
   "cell_type": "code",
   "execution_count": 133,
   "metadata": {},
   "outputs": [
    {
     "data": {
      "text/plain": [
       "array([0.314, 1.   , 0.267])"
      ]
     },
     "execution_count": 133,
     "metadata": {},
     "output_type": "execute_result"
    }
   ],
   "source": [
    "p"
   ]
  },
  {
   "cell_type": "code",
   "execution_count": 136,
   "metadata": {},
   "outputs": [
    {
     "data": {
      "text/plain": [
       "array([[-0.00064393,  0.00147131, -0.00068707],\n",
       "       [-0.00228801,  0.00450366, -0.00357938],\n",
       "       [-0.0044744 ,  0.00818996, -0.0059065 ],\n",
       "       [-0.00253162,  0.00425759, -0.00319988],\n",
       "       [-0.01395243,  0.01722102, -0.02434344],\n",
       "       [-0.00403837,  0.00573702, -0.00512781],\n",
       "       [-0.00670212,  0.00982551, -0.00993121],\n",
       "       [-0.00526802,  0.00823332, -0.00702594],\n",
       "       [-0.01161176,  0.01288115, -0.0184132 ]])"
      ]
     },
     "execution_count": 136,
     "metadata": {},
     "output_type": "execute_result"
    }
   ],
   "source": [
    "J"
   ]
  },
  {
   "cell_type": "markdown",
   "metadata": {},
   "source": [
    "# Real Problem, using scipy.optimize.least_squares¶"
   ]
  },
  {
   "cell_type": "code",
   "execution_count": 134,
   "metadata": {},
   "outputs": [
    {
     "data": {
      "text/plain": [
       "array([0.31399879, 1.0000006 , 0.26699982])"
      ]
     },
     "execution_count": 134,
     "metadata": {},
     "output_type": "execute_result"
    }
   ],
   "source": [
    "x0 = np.array([0.5, 0.9, 0.3])\n",
    "res_1 = least_squares(residual, x0)\n",
    "res_1.x"
   ]
  },
  {
   "cell_type": "code",
   "execution_count": 135,
   "metadata": {},
   "outputs": [
    {
     "data": {
      "text/plain": [
       "array([[-0.00064393,  0.00147131, -0.00068707],\n",
       "       [-0.00228801,  0.00450366, -0.00357938],\n",
       "       [-0.0044744 ,  0.00818996, -0.0059065 ],\n",
       "       [-0.00253162,  0.00425759, -0.00319988],\n",
       "       [-0.01395243,  0.01722102, -0.02434345],\n",
       "       [-0.00403837,  0.00573702, -0.00512781],\n",
       "       [-0.00670212,  0.00982551, -0.00993121],\n",
       "       [-0.00526802,  0.00823332, -0.00702594],\n",
       "       [-0.01161176,  0.01288115, -0.01841321]])"
      ]
     },
     "execution_count": 135,
     "metadata": {},
     "output_type": "execute_result"
    }
   ],
   "source": [
    "res_1.jac"
   ]
  },
  {
   "cell_type": "code",
   "execution_count": 151,
   "metadata": {},
   "outputs": [],
   "source": [
    "J = res_1.jac\n",
    "standard_error = np.diagonal((la.inv(J.T@J)@(J.T@np.diag(noise**2)@J)@la.inv(J.T@J)))**0.5"
   ]
  },
  {
   "cell_type": "code",
   "execution_count": 152,
   "metadata": {},
   "outputs": [
    {
     "data": {
      "text/plain": [
       "array([0.02922804, 0.01251994, 0.01323203])"
      ]
     },
     "execution_count": 152,
     "metadata": {},
     "output_type": "execute_result"
    }
   ],
   "source": [
    "standard_error"
   ]
  },
  {
   "cell_type": "code",
   "execution_count": null,
   "metadata": {},
   "outputs": [],
   "source": []
  }
 ],
 "metadata": {
  "kernelspec": {
   "display_name": "Python 3",
   "language": "python",
   "name": "python3"
  },
  "language_info": {
   "codemirror_mode": {
    "name": "ipython",
    "version": 3
   },
   "file_extension": ".py",
   "mimetype": "text/x-python",
   "name": "python",
   "nbconvert_exporter": "python",
   "pygments_lexer": "ipython3",
   "version": "3.7.4"
  }
 },
 "nbformat": 4,
 "nbformat_minor": 2
}
